{
 "cells": [
  {
   "cell_type": "code",
   "execution_count": 2,
   "metadata": {},
   "outputs": [],
   "source": [
    "from qiskit.quantum_info import state_fidelity, average_gate_fidelity, process_fidelity\n",
    "from qiskit.circuit.library import XGate, ZGate, YGate, HGate\n",
    "from qiskit.quantum_info.operators import Operator\n",
    "from qiskit import QuantumCircuit, Aer, execute\n",
    "import numpy as np"
   ]
  },
  {
   "cell_type": "code",
   "execution_count": 4,
   "metadata": {},
   "outputs": [],
   "source": [
    "op_a = Operator(XGate())\n",
    "op_b = Operator(YGate())"
   ]
  },
  {
   "cell_type": "code",
   "execution_count": 5,
   "metadata": {},
   "outputs": [
    {
     "name": "stdout",
     "output_type": "stream",
     "text": [
      "Gate fidelity: 0.3333333333333333\n"
     ]
    }
   ],
   "source": [
    "print(\"Gate fidelity:\", average_gate_fidelity(op_a, op_b))"
   ]
  },
  {
   "cell_type": "code",
   "execution_count": 7,
   "metadata": {},
   "outputs": [
    {
     "name": "stdout",
     "output_type": "stream",
     "text": [
      "Process fidelity: 0.0\n"
     ]
    }
   ],
   "source": [
    "print(\"Process fidelity:\", process_fidelity(op_a, op_b))"
   ]
  },
  {
   "cell_type": "code",
   "execution_count": 8,
   "metadata": {},
   "outputs": [],
   "source": [
    "qc1 = QuantumCircuit(1)\n",
    "qc1.append(op_a, [0])\n",
    "qc2 = QuantumCircuit(1)\n",
    "qc2.append(op_b, [0])\n",
    "\n",
    "backend = Aer.get_backend(\"statevector_simulator\")\n",
    "sv1 = execute(qc1, backend).result().get_statevector(qc1)\n",
    "sv2 = execute(qc2, backend).result().get_statevector(qc2)"
   ]
  },
  {
   "cell_type": "code",
   "execution_count": 9,
   "metadata": {},
   "outputs": [
    {
     "name": "stdout",
     "output_type": "stream",
     "text": [
      "Statevector([0.+0.j, 1.+0.j],\n",
      "            dims=(2,))\n",
      "Statevector([0.-0.j, 0.+1.j],\n",
      "            dims=(2,))\n"
     ]
    }
   ],
   "source": [
    "print(sv1)\n",
    "print(sv2)"
   ]
  },
  {
   "cell_type": "code",
   "execution_count": 10,
   "metadata": {},
   "outputs": [
    {
     "name": "stdout",
     "output_type": "stream",
     "text": [
      "1.0\n"
     ]
    }
   ],
   "source": [
    "print(state_fidelity(sv1, sv2))"
   ]
  }
 ],
 "metadata": {
  "kernelspec": {
   "display_name": "Python 3.10.8 64-bit (microsoft store)",
   "language": "python",
   "name": "python3"
  },
  "language_info": {
   "codemirror_mode": {
    "name": "ipython",
    "version": 3
   },
   "file_extension": ".py",
   "mimetype": "text/x-python",
   "name": "python",
   "nbconvert_exporter": "python",
   "pygments_lexer": "ipython3",
   "version": "3.10.8"
  },
  "orig_nbformat": 4,
  "vscode": {
   "interpreter": {
    "hash": "81ef70e7e80a65b8d1c6dcbdf495742d7ecc2c2e247e2abb2151eff1655495cd"
   }
  }
 },
 "nbformat": 4,
 "nbformat_minor": 2
}
